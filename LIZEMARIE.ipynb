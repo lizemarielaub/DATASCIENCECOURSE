{
 "cells": [
  {
   "cell_type": "markdown",
   "id": "f34386a9-6420-4dfe-b764-1f45b31bba26",
   "metadata": {},
   "source": [
    "#  My Jupyter Notebook on IBM Watson Studio"
   ]
  },
  {
   "cell_type": "markdown",
   "id": "667e7277-d00c-458a-9984-f515a17b7909",
   "metadata": {},
   "source": [
    "**Lize-Marie Laubscher**"
   ]
  },
  {
   "cell_type": "markdown",
   "id": "7e9ba216-6550-4a99-b686-93d7bc78c7ed",
   "metadata": {},
   "source": [
    "_I am a Industrial Engineer and find data science very helpful in my occupation. I want to learn more and become better at this skill._"
   ]
  },
  {
   "cell_type": "markdown",
   "id": "c508e9d2-14b5-48b3-9a0d-b9699e034174",
   "metadata": {},
   "source": [
    "### The Following Code will calculate the equation: 2 + 4 - 10 + 1"
   ]
  },
  {
   "cell_type": "code",
   "execution_count": 19,
   "id": "00eb8354-4307-4daa-82fc-ff7aa071daa0",
   "metadata": {},
   "outputs": [
    {
     "data": {
      "text/html": [
       "-3"
      ],
      "text/latex": [
       "-3"
      ],
      "text/markdown": [
       "-3"
      ],
      "text/plain": [
       "[1] -3"
      ]
     },
     "metadata": {},
     "output_type": "display_data"
    }
   ],
   "source": [
    "sum(1,1)+sum(1,3)-max(1,10)+min(1,10)\n"
   ]
  },
  {
   "cell_type": "markdown",
   "id": "6be76cb4-cfef-4072-92dc-9c182a21ea07",
   "metadata": {},
   "source": [
    "#### Languages covered in this course \n",
    "\n",
    "- Python\n",
    "- SQL\n",
    "- R Studio\n",
    "\n",
    " It has been a **successful** course"
   ]
  },
  {
   "cell_type": "code",
   "execution_count": null,
   "id": "26945336-4ccb-4994-88c4-f3fedb4062c3",
   "metadata": {},
   "outputs": [],
   "source": []
  }
 ],
 "metadata": {
  "kernelspec": {
   "display_name": "R",
   "language": "R",
   "name": "conda-env-r-r"
  },
  "language_info": {
   "codemirror_mode": "r",
   "file_extension": ".r",
   "mimetype": "text/x-r-source",
   "name": "R",
   "pygments_lexer": "r",
   "version": "3.5.1"
  }
 },
 "nbformat": 4,
 "nbformat_minor": 5
}
