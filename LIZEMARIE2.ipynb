#  My Jupyter Notebook on IBM Watson Studio
**Lize-Marie Laubscher**
_I am a Industrial Engineer and find data science very helpful in my occupation. I want to learn more and become better at this skill._
###
### The Following Code will calculate the equation: 2 + 4 - 10 + 1






sum
sum(1,1)+sum(1,3)-max(1,10)+min(1,10)
​
-3
#### Languages covered in this course 

- Python
- SQL
- R Studio

 It has been a **successful** course
#### Languages covered in this course 
​
- Python
- SQL
- R Studio
​
 It has been a **successful** course
